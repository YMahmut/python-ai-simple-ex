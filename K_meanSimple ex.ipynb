{
 "cells": [
  {
   "cell_type": "code",
   "execution_count": 5,
   "metadata": {},
   "outputs": [
    {
     "data": {
      "image/png": "[encoded data removed]",
      "text/plain": [
       "<Figure size 640x480 with 1 Axes>"
      ]
     },
     "metadata": {},
     "output_type": "display_data"
    },
    {
     "name": "stdout",
     "output_type": "stream",
     "text": [
      "ilk küme merkezleri [[1.0, 0.5], [3.0, 0.8], [5.0, 4.7]]\n"
     ]
    }
   ],
   "source": [
    "#k mean\n",
    "import numpy as np\n",
    "import matplotlib.pyplot as plt\n",
    "\n",
    "\n",
    "#a=[x,y] 2 boyut ornek verisi\n",
    "#a=[x,y,z] 3 boyut ornek verisi\n",
    "\n",
    "a=[[4, 0.5],\n",
    "   [1, 4.5],\n",
    "   [6, 0.8],\n",
    "   [5, 0.6],\n",
    "   [3, 4.9],\n",
    "   [2, 4.7]]\n",
    "\n",
    "#a=[[1, 12, 13],\n",
    " #  [2, 18, 19],\n",
    "  # [3, 20, 22],\n",
    "   #[4, 25, 24],\n",
    "  # [10, 26, 27],\n",
    "  # [11, 30, 32]]\n",
    "#a=[1,2,3,4,10,11,12,18,20,25,26,30]  tek boyut ornek verisi\n",
    "if len((np.array(a)).shape)==1:\n",
    "    abc=[]\n",
    "    for kolona_cev in range(len(a)):\n",
    "        ab=[]\n",
    "        ab.append(a[kolona_cev])\n",
    "        abc.append(ab)\n",
    "    a=abc\n",
    "boyut_Listesi=[]\n",
    "for boyut_eleman in range(len(a[0])):\n",
    "    boyut=(np.array(a))[:,boyut_eleman].tolist() #boyut x veya y veya z\n",
    "    boyut_Listesi.append(boyut)\n",
    "if len(a[0]) > 1:\n",
    "    plt.scatter(boyut_Listesi[0],boyut_Listesi[1])\n",
    "    plt.xlabel('x ekseni')\n",
    "    plt.ylabel('y ekseni')\n",
    "    plt.grid(True)\n",
    "    plt.show() \n",
    "\n",
    "    if len(a[0]) > 2:\n",
    "        fig = plt.figure()\n",
    "        ax = fig.add_subplot(111, projection='3d')\n",
    "        ax.set_xlabel('X Label')\n",
    "        ax.set_ylabel('Y Label')\n",
    "        ax.set_zlabel('Z Label')\n",
    "        for m, zlow, zhigh in [('o', -50, -25), ('^', -30, -5)]:\n",
    "            ax.scatter(boyut_Listesi[0], boyut_Listesi[1], boyut_Listesi[2], marker=m)\n",
    "        plt.grid(True)\n",
    "        plt.show()\n",
    "\n",
    "\n",
    "k=3\n",
    "def ilk_ortalama_belirle(k,liste_al):\n",
    "    ilk_sirali=[]\n",
    "    liste_al_arr=np.array(liste_al)\n",
    "    for bol2 in range(len(liste_al_arr[0])):\n",
    "        sirala=sorted(liste_al_arr[:,bol2])\n",
    "        ilk_sirali.append(sirala)\n",
    "    ilk_sirali_arr=np.array(ilk_sirali).transpose()\n",
    "    ilk_Ort=[]\n",
    "    for bol1 in range(k):\n",
    "        ilk_ort_index=(bol1)*int(len(ilk_sirali_arr)/k)\n",
    "        ilk_ort_=ilk_sirali_arr[(ilk_ort_index)].tolist()\n",
    "        ilk_Ort.append(ilk_ort_)\n",
    "    return ilk_Ort\n",
    "\n",
    "ortalama=ilk_ortalama_belirle(k,a)\n",
    "print(\"ilk küme merkezleri\",ortalama)\n",
    "\n",
    "iterasyon_sayisi=0"
   ]
  },
  {
   "cell_type": "code",
   "execution_count": 6,
   "metadata": {},
   "outputs": [
    {
     "name": "stdout",
     "output_type": "stream",
     "text": [
      "                                    iterasyon_sayisi:  1\n",
      "\n",
      "uzaklik:\n",
      " [[3.0, 1.044030650891055, 4.317406628984581], [4.0, 4.205948168962618, 4.004996878900157], [5.008991914547277, 3.0, 4.026164427839479], [4.001249804748512, 2.009975124224178, 4.1000000000000005], [4.833218389437829, 4.1000000000000005, 2.009975124224178], [4.317406628984581, 4.026164427839479, 3.0]]\n",
      "\n",
      "Küme Merkezleri:\n",
      " [[1.0, 4.5], [5.0, 0.6333333333333333], [2.5, 4.800000000000001]]\n",
      "\n",
      "----------------------------\n",
      "1 .   kume:\n",
      " [[1, 4.5]]\n",
      "\n",
      "2 .   kume:\n",
      " [[4, 0.5], [6, 0.8], [5, 0.6]]\n",
      "\n",
      "3 .   kume:\n",
      " [[3, 4.9], [2, 4.7]]\n",
      "\n",
      "___________________________________________________________________________________________\n"
     ]
    },
    {
     "name": "stderr",
     "output_type": "stream",
     "text": [
      "/var/folders/4k/k87xnnr95dv7xhvqg63wj5s80000gn/T/ipykernel_41174/267987459.py:20: VisibleDeprecationWarning: Creating an ndarray from ragged nested sequences (which is a list-or-tuple of lists-or-tuples-or ndarrays with different lengths or shapes) is deprecated. If you meant to do this, you must specify 'dtype=object' when creating the ndarray.\n",
      "  kumeler_array=np.array(kumeler)\n"
     ]
    }
   ],
   "source": [
    "while (True):\n",
    "    iterasyon_sayisi += 1\n",
    "    kumeler=[]\n",
    "    for kume_olustur in range(k):\n",
    "        kume=[]\n",
    "        kumeler.append(kume)\n",
    "    uzaklik=[]    \n",
    "    for eleman_satir in range(len(a)):\n",
    "        mesafeler_gcc_listesi=[]\n",
    "        \n",
    "        for eleman2 in range(k):\n",
    "            toplam=0\n",
    "            \n",
    "            for eleman_sutun in range(len(a[0])):\n",
    "                farkin_karesi = (a[eleman_satir][eleman_sutun]-ortalama[eleman2][eleman_sutun])**2\n",
    "                toplam += farkin_karesi\n",
    "            kok=toplam**(1/2)\n",
    "            mesafeler_gcc_listesi.append(kok)\n",
    "        kumeler[(mesafeler_gcc_listesi.index(min(mesafeler_gcc_listesi)))].append((a[eleman_satir]))\n",
    "        kumeler_array=np.array(kumeler)\n",
    "        uzaklik.append(mesafeler_gcc_listesi)\n",
    "        uzaklik_arr=np.array(uzaklik)\n",
    "    genel_ortalama_Listesi=[]\n",
    "    for ortalama_hesapla_eleman in range(k):\n",
    "        ortalama_hesapla_gcc_eleman=kumeler[ortalama_hesapla_eleman]\n",
    "        genel_ortalama_Listesi.append(((np.array(kumeler[ortalama_hesapla_eleman])).mean(axis=0)).tolist())\n",
    "    \n",
    "    if genel_ortalama_Listesi==ortalama:\n",
    "        break\n",
    "    else:\n",
    "        ortalama=genel_ortalama_Listesi\n",
    "\n",
    "    print(\"                                    iterasyon_sayisi: \",iterasyon_sayisi)\n",
    "    print(\"\")\n",
    "    print(\"uzaklik:\\n\",uzaklik)\n",
    "    print(\"\")\n",
    "    print(\"Küme Merkezleri:\\n\",genel_ortalama_Listesi)\n",
    "    print(\"\")\n",
    "    print(\"----------------------------\")\n",
    "    for kume_goster_eleman in range(len(kumeler)):\n",
    "        print((kume_goster_eleman+1),\".   kume:\\n\",kumeler[kume_goster_eleman])\n",
    "        print(\"\")\n",
    "\n",
    "    print(\"___________________________________________________________________________________________\")"
   ]
  }
 ],
 "metadata": {
  "kernelspec": {
   "display_name": "Python 3 (ipykernel)",
   "language": "python",
   "name": "python3"
  },
  "language_info": {
   "codemirror_mode": {
    "name": "ipython",
    "version": 3
   },
   "file_extension": ".py",
   "mimetype": "text/x-python",
   "name": "python",
   "nbconvert_exporter": "python",
   "pygments_lexer": "ipython3",
   "version": "3.11.0"
  }
 },
 "nbformat": 4,
 "nbformat_minor": 4
}
